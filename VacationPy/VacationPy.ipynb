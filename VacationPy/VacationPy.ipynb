{
 "cells": [
  {
   "cell_type": "markdown",
   "metadata": {},
   "source": [
    "# VacationPy"
   ]
  },
  {
   "cell_type": "code",
   "execution_count": 1,
   "metadata": {},
   "outputs": [],
   "source": [
    "import pandas as pd\n",
    "import gmaps\n",
    "import numpy as np\n",
    "import json \n",
    "from citipy import citipy\n",
    "import requests\n",
    "import matplotlib.pyplot as plt\n",
    "\n",
    "from api_keys import gkey"
   ]
  },
  {
   "cell_type": "markdown",
   "metadata": {},
   "source": [
    "### Getting the data"
   ]
  },
  {
   "cell_type": "code",
   "execution_count": 2,
   "metadata": {
    "scrolled": true
   },
   "outputs": [
    {
     "data": {
      "text/html": [
       "<div>\n",
       "<style scoped>\n",
       "    .dataframe tbody tr th:only-of-type {\n",
       "        vertical-align: middle;\n",
       "    }\n",
       "\n",
       "    .dataframe tbody tr th {\n",
       "        vertical-align: top;\n",
       "    }\n",
       "\n",
       "    .dataframe thead th {\n",
       "        text-align: right;\n",
       "    }\n",
       "</style>\n",
       "<table border=\"1\" class=\"dataframe\">\n",
       "  <thead>\n",
       "    <tr style=\"text-align: right;\">\n",
       "      <th></th>\n",
       "      <th>Lat</th>\n",
       "      <th>Long</th>\n",
       "      <th>City</th>\n",
       "      <th>Country</th>\n",
       "      <th>Temperature (F)</th>\n",
       "      <th>Max Temp (F)</th>\n",
       "      <th>Humidity (%)</th>\n",
       "      <th>Cloudiness (%)</th>\n",
       "      <th>Wind Speed (mph)</th>\n",
       "    </tr>\n",
       "  </thead>\n",
       "  <tbody>\n",
       "    <tr>\n",
       "      <th>0</th>\n",
       "      <td>52.146062</td>\n",
       "      <td>14.819762</td>\n",
       "      <td>eisenhuttenstadt</td>\n",
       "      <td>de</td>\n",
       "      <td>NaN</td>\n",
       "      <td>NaN</td>\n",
       "      <td>NaN</td>\n",
       "      <td>NaN</td>\n",
       "      <td>NaN</td>\n",
       "    </tr>\n",
       "    <tr>\n",
       "      <th>1</th>\n",
       "      <td>-22.970000</td>\n",
       "      <td>-42.030000</td>\n",
       "      <td>arraial do cabo</td>\n",
       "      <td>br</td>\n",
       "      <td>71.60</td>\n",
       "      <td>71.60</td>\n",
       "      <td>88.0</td>\n",
       "      <td>92.0</td>\n",
       "      <td>10.29</td>\n",
       "    </tr>\n",
       "    <tr>\n",
       "      <th>2</th>\n",
       "      <td>-15.820000</td>\n",
       "      <td>-50.610000</td>\n",
       "      <td>itapirapua</td>\n",
       "      <td>br</td>\n",
       "      <td>69.31</td>\n",
       "      <td>69.31</td>\n",
       "      <td>74.0</td>\n",
       "      <td>14.0</td>\n",
       "      <td>3.18</td>\n",
       "    </tr>\n",
       "    <tr>\n",
       "      <th>3</th>\n",
       "      <td>38.320000</td>\n",
       "      <td>26.760000</td>\n",
       "      <td>urla</td>\n",
       "      <td>tr</td>\n",
       "      <td>56.91</td>\n",
       "      <td>59.00</td>\n",
       "      <td>87.0</td>\n",
       "      <td>25.0</td>\n",
       "      <td>4.70</td>\n",
       "    </tr>\n",
       "    <tr>\n",
       "      <th>4</th>\n",
       "      <td>-6.100000</td>\n",
       "      <td>-39.450000</td>\n",
       "      <td>acopiara</td>\n",
       "      <td>br</td>\n",
       "      <td>71.83</td>\n",
       "      <td>71.83</td>\n",
       "      <td>93.0</td>\n",
       "      <td>52.0</td>\n",
       "      <td>2.08</td>\n",
       "    </tr>\n",
       "  </tbody>\n",
       "</table>\n",
       "</div>"
      ],
      "text/plain": [
       "         Lat       Long              City Country  Temperature (F)  \\\n",
       "0  52.146062  14.819762  eisenhuttenstadt      de              NaN   \n",
       "1 -22.970000 -42.030000   arraial do cabo      br            71.60   \n",
       "2 -15.820000 -50.610000        itapirapua      br            69.31   \n",
       "3  38.320000  26.760000              urla      tr            56.91   \n",
       "4  -6.100000 -39.450000          acopiara      br            71.83   \n",
       "\n",
       "   Max Temp (F)  Humidity (%)  Cloudiness (%)  Wind Speed (mph)  \n",
       "0           NaN           NaN             NaN               NaN  \n",
       "1         71.60          88.0            92.0             10.29  \n",
       "2         69.31          74.0            14.0              3.18  \n",
       "3         59.00          87.0            25.0              4.70  \n",
       "4         71.83          93.0            52.0              2.08  "
      ]
     },
     "execution_count": 2,
     "metadata": {},
     "output_type": "execute_result"
    }
   ],
   "source": [
    "cities_df = pd.read_csv(\"../WeatherPy/Weather_per_city.csv\")\n",
    "cities_df.head()"
   ]
  },
  {
   "cell_type": "markdown",
   "metadata": {},
   "source": [
    "### Nww DataFrame with fitting weather criteria"
   ]
  },
  {
   "cell_type": "code",
   "execution_count": 3,
   "metadata": {},
   "outputs": [],
   "source": [
    "#Dropping rows with null values\n",
    "cities_df.dropna(inplace=True)\n",
    "\n",
    "# Narrowing down the consitions to find the cities with ideal weather \n",
    "cities_df = cities_df[cities_df[\"Wind Speed (mph)\"] < 10]\n",
    "cities_df = cities_df[cities_df[\"Cloudiness (%)\"] == 0]\n",
    "cities_df = cities_df[cities_df[\"Temperature (F)\"] < 80]\n",
    "cities_df = cities_df[cities_df[\"Temperature (F)\"] > 70]\n",
    "\n",
    "# Saving the coordinates of the found cities\n",
    "locations = cities_df[[\"Lat\", \"Long\"]]\n",
    "\n",
    "# Creating the humidity dataframe to use as weight in the map\n",
    "humidity = cities_df[\"Humidity (%)\"]"
   ]
  },
  {
   "cell_type": "markdown",
   "metadata": {},
   "source": [
    "### Hotel map "
   ]
  },
  {
   "cell_type": "code",
   "execution_count": 97,
   "metadata": {},
   "outputs": [],
   "source": [
    "# Creating the array of coordinates to use when findind the city\n",
    "city_coords = []\n",
    "for i in range(len(cities_df)):\n",
    "    temp = list(cities_df['Lat'])[i]\n",
    "    temp2 = list(cities_df['Long'])[i]\n",
    "    var = str(temp)+\", \"+str(temp2)\n",
    "    city_coords.append(var)"
   ]
  },
  {
   "cell_type": "code",
   "execution_count": 98,
   "metadata": {},
   "outputs": [],
   "source": [
    "# Finding the nearests hotels within a radius of 5000 m\n",
    "target_type = \"lodging\"\n",
    "radius = 5000\n",
    "\n",
    "gmaps.configure(api_key=gkey)"
   ]
  },
  {
   "cell_type": "code",
   "execution_count": 110,
   "metadata": {
    "scrolled": false
   },
   "outputs": [],
   "source": [
    "# Base url\n",
    "base_url = \"https://maps.googleapis.com/maps/api/place/nearbysearch/json\"\n",
    "\n",
    "latit = []\n",
    "longit = []\n",
    "name = []\n",
    "region = []\n",
    "\n",
    "params = {\n",
    "    \"location\": city_coords[0],\n",
    "    \"radius\": radius,\n",
    "    \"type\": target_type,\n",
    "    \"key\": gkey\n",
    "}\n",
    "    \n",
    "response = requests.get(base_url, params = params).json() \n",
    "    \n",
    "latit.append(response[\"results\"][0][\"geometry\"][\"location\"][\"lat\"])\n",
    "longit.append(response[\"results\"][0][\"geometry\"][\"location\"][\"lng\"])\n",
    "name.append(response[\"results\"][0][\"name\"]) \n",
    "region.append(response[\"results\"][0][\"vicinity\"])\n",
    "\n",
    "# Storing the values in a dataframe\n",
    "hotel = {\n",
    "    \"Lat\": latit, \n",
    "    \"Long\": longit,\n",
    "    \"Name\": name,\n",
    "    \"Region\": region  \n",
    "}\n",
    "\n",
    "hotel_df = pd.DataFrame(hotel, columns = [\"Lat\", \"Long\", \"Name\", \"Region\"], index = [0])"
   ]
  },
  {
   "cell_type": "code",
   "execution_count": 108,
   "metadata": {
    "scrolled": false
   },
   "outputs": [
    {
     "data": {
      "text/html": [
       "<div>\n",
       "<style scoped>\n",
       "    .dataframe tbody tr th:only-of-type {\n",
       "        vertical-align: middle;\n",
       "    }\n",
       "\n",
       "    .dataframe tbody tr th {\n",
       "        vertical-align: top;\n",
       "    }\n",
       "\n",
       "    .dataframe thead th {\n",
       "        text-align: right;\n",
       "    }\n",
       "</style>\n",
       "<table border=\"1\" class=\"dataframe\">\n",
       "  <thead>\n",
       "    <tr style=\"text-align: right;\">\n",
       "      <th></th>\n",
       "      <th>Lat</th>\n",
       "      <th>Long</th>\n",
       "      <th>Name</th>\n",
       "      <th>Region</th>\n",
       "    </tr>\n",
       "  </thead>\n",
       "  <tbody>\n",
       "    <tr>\n",
       "      <th>0</th>\n",
       "      <td>29.032724</td>\n",
       "      <td>21.545805</td>\n",
       "      <td>Jalu Hotel</td>\n",
       "      <td>Jalu</td>\n",
       "    </tr>\n",
       "  </tbody>\n",
       "</table>\n",
       "</div>"
      ],
      "text/plain": [
       "         Lat       Long        Name Region\n",
       "0  29.032724  21.545805  Jalu Hotel   Jalu"
      ]
     },
     "execution_count": 108,
     "metadata": {},
     "output_type": "execute_result"
    }
   ],
   "source": [
    "# Dataframe of found hotels\n",
    "hotel_df"
   ]
  },
  {
   "cell_type": "code",
   "execution_count": null,
   "metadata": {},
   "outputs": [],
   "source": [
    "# Using the template add the hotel marks to the heatmap\n",
    "info_box_template = \"\"\"\n",
    "<dl>\n",
    "<dt>Name</dt><dd>{Hotel Name}</dd>\n",
    "<dt>City</dt><dd>{City}</dd>\n",
    "<dt>Country</dt><dd>{Country}</dd>\n",
    "</dl>\n",
    "\"\"\"\n",
    "# Store the DataFrame Row\n",
    "# NOTE: be sure to update with your DataFrame name\n",
    "hotel_info = [info_box_template.format(**row) for index, row in hotel_df.iterrows()]\n",
    "#locations = hotel_df[[\"Lat\", \"Lng\"]]"
   ]
  },
  {
   "cell_type": "code",
   "execution_count": 102,
   "metadata": {
    "scrolled": false
   },
   "outputs": [
    {
     "data": {
      "application/vnd.jupyter.widget-view+json": {
       "model_id": "9e057ff52c2f4e2a92e5d0bcfb6a1026",
       "version_major": 2,
       "version_minor": 0
      },
      "text/plain": [
       "Figure(layout=FigureLayout(height='420px'))"
      ]
     },
     "metadata": {},
     "output_type": "display_data"
    }
   ],
   "source": [
    "# Generating the map\n",
    "fig = gmaps.figure()\n",
    "\n",
    "\n",
    "heat_layer = gmaps.heatmap_layer(\n",
    "    locations,\n",
    "    weights = humidity,\n",
    "    dissipating = False,\n",
    "    max_intensity = max(cities_df[\"Humidity (%)\"]),\n",
    "    point_radius = 5\n",
    ")\n",
    "\n",
    "# Puttign the pins in the maps \n",
    "marker_locations =  hotel_df[[\"Lat\", \"Long\"]]\n",
    "markers = gmaps.marker_layer(marker_locations)\n",
    "fig.add_layer(markers)\n",
    "\n",
    "fig.add_layer(heat_layer)\n",
    "fig"
   ]
  },
  {
   "cell_type": "code",
   "execution_count": null,
   "metadata": {},
   "outputs": [],
   "source": []
  }
 ],
 "metadata": {
  "kernelspec": {
   "display_name": "Python 3",
   "language": "python",
   "name": "python3"
  },
  "language_info": {
   "codemirror_mode": {
    "name": "ipython",
    "version": 3
   },
   "file_extension": ".py",
   "mimetype": "text/x-python",
   "name": "python",
   "nbconvert_exporter": "python",
   "pygments_lexer": "ipython3",
   "version": "3.7.3"
  }
 },
 "nbformat": 4,
 "nbformat_minor": 2
}
